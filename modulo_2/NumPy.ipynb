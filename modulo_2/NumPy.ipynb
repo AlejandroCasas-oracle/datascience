{
  "nbformat": 4,
  "nbformat_minor": 0,
  "metadata": {
    "colab": {
      "name": "NumPy.ipynb",
      "provenance": [],
      "collapsed_sections": []
    },
    "kernelspec": {
      "name": "python3",
      "display_name": "Python 3"
    }
  },
  "cells": [
    {
      "cell_type": "markdown",
      "metadata": {
        "id": "N0GJeEJQRGBh",
        "colab_type": "text"
      },
      "source": [
        "#Numpy\n",
        "\n",
        "Numpy, es una combinación de palabras, `Numerical` y `Python`. Es uno de los más importantes paquetes en Python para el computo númerico.\n",
        "La mayoría de los paquetes que proveen cálculos científicos utilizan objetos **NumPy** como elemento para intercambio de datos.\n",
        "\n",
        "Estás son algunos elementos que utilizaremos con NumPy:\n",
        "\n",
        "* **ndarray**: Una eficiente matriz *(Array=Arreglo)* multidimensional que provee operaciones aritmeticas entre arrays de forma flexible y rápidas.\n",
        "\n",
        "* Funciones matemáticas para operar entre arrays de datos sin tener que escribir Loops. **AHHHH!**\n",
        "\n",
        "\n",
        "\n",
        "&nbsp; &nbsp; &nbsp; &nbsp;&nbsp; &nbsp; &nbsp; &nbsp; &nbsp; &nbsp; &nbsp; &nbsp;&nbsp; &nbsp; &nbsp; &nbsp; &nbsp; &nbsp; &nbsp; &nbsp; &nbsp; &nbsp; &nbsp; &nbsp; <img src=\"https://pm1.narvii.com/6240/84538693599c0871fec9e10f1fd0586fd3c284c4_hq.jpg\"  width=\"250\" height=\"250\" />\n",
        "\n",
        "* Herramientas para escribir array en disco y trabajarlos con archivos mapeados en memoria\n",
        "\n",
        "* Algebra lineal, generación aleatoria de números, y algunas transformaciones.\n",
        "\n",
        "Debido a que NumPy provee una facil de usar API para interactuar con otros lenguajes como C, es muy directo pasar datos de una libería externa en bajo nivel a Python.\n",
        "\n",
        "Mientras que NumPy por si mismo no provee ninguna funcionalidad de modelado o científica, entender arrays NumPy y computo de arrays, te ayudará a usar otras herramientas como **Pandas** más eficientemente.\n",
        "\n",
        "Principalmente nos focalizaremos en: \n",
        "\n",
        "* Operaciones entre arrays, data muning, y data cleaning, Filtering y transformaciones.\n",
        "\n",
        "* Operaciones entre Arrays.\n",
        "\n",
        "* Manimupación de datos mediante unión y consolidación (Join, Merge) utilizando datasets heterogéneos.\n",
        "\n",
        "* Condiciones lógicas aplicadas a arrays.\n",
        "\n",
        "Mientras que NumPy provee las bases para calculo computacional genérico, científicos de datos utilizan Pandas como el pilar de la mayoría de los desarrollos estadísticos y analíticos, especialmente con Datos tabulares. Panda también provee algunas funcionalidades que son específicas del dominio como manipulación de series.\n"
      ]
    },
    {
      "cell_type": "markdown",
      "metadata": {
        "id": "Q_VOhzu1VVkE",
        "colab_type": "text"
      },
      "source": [
        "## Comparando nmarrays y Python Arrays\n",
        "\n",
        "Una de las razones por las que NumPy es tan importante para computo númerico en Python es debido a su eficiencia en el manejo de largos arrays (Arreglos) de datos.\n",
        "\n",
        "NumPy internamente almacena los datos de forma contigua en bloques de memoria, independientemente de otros objetos Python. La librería Numpy de algoritmo puede operar en memoria sin perdida de performance. Los arrays de Numpy ocupan menos espacio que las listas de Python.\n",
        "\n",
        "**Cuál será la razón?**\n",
        "\n",
        "![](https://media1.tenor.com/images/4704d511d603640b82c2aeed0cc3af31/tenor.gif?itemid=11691381)\n",
        "\n",
        ".. Sigamos\n",
        "\n",
        "Las operaciones NumPy se comportan mejor en operaciones computacionales complejas en arrays sin la necesidad de utilizar loops de Python.\n",
        "\n",
        "Para darles una idea de la diferencia de performance, veamos el siguiente código aplicando NumPy Arrays y listas Python\n"
      ]
    },
    {
      "cell_type": "code",
      "metadata": {
        "id": "t2v-Iq6WQ_yV",
        "colab_type": "code",
        "colab": {}
      },
      "source": [
        "import numpy as np\n",
        "my_arr = np.arange(1000000)  \n",
        "my_list = list(range(1000000))"
      ],
      "execution_count": 0,
      "outputs": []
    },
    {
      "cell_type": "code",
      "metadata": {
        "id": "oeSMbSq7YAL0",
        "colab_type": "code",
        "colab": {}
      },
      "source": [
        "%time for _ in range(10): my_arr2 = my_arr * 2\n",
        "%time for _ in range(10): my_list2 = [x * 2 for x in my_list]"
      ],
      "execution_count": 0,
      "outputs": []
    },
    {
      "cell_type": "markdown",
      "metadata": {
        "id": "DlQjmD-7YZns",
        "colab_type": "text"
      },
      "source": [
        "## NumPy ndarray: Un obketo Array Multidimensional\n",
        "Uno de las principales capacidad de NumPy es el N-Dimensional array, o también conodio como **ndarray**, cual es un rápido, y flexible container de largos datasets.\n",
        "Los arreglos permite ejecutar operaciones matemáticas en un bloque completo usando sintaxis equivalente a elementos escalares.\n",
        "\n",
        "Para darte una pequeña introducción de como NumPy puede gestionar arrays de forma similar que objetos Python, ejecutemos el siguiente código.\n"
      ]
    },
    {
      "cell_type": "code",
      "metadata": {
        "id": "JXPTW_eyYW-C",
        "colab_type": "code",
        "colab": {
          "base_uri": "https://localhost:8080/",
          "height": 51
        },
        "outputId": "3ddb52df-37dc-43e0-c76a-f68f341252a9"
      },
      "source": [
        "import numpy as np #Importamos Numpy\n",
        "# Generamos Data random\n",
        "data = np.random.randn(2, 3)\n",
        "data"
      ],
      "execution_count": 24,
      "outputs": [
        {
          "output_type": "execute_result",
          "data": {
            "text/plain": [
              "array([[ 0.5313886 , -1.20098546,  0.55315688],\n",
              "       [ 0.15304392, -0.63413098,  1.27059148]])"
            ]
          },
          "metadata": {
            "tags": []
          },
          "execution_count": 24
        }
      ]
    },
    {
      "cell_type": "code",
      "metadata": {
        "id": "pvO4TysUZVys",
        "colab_type": "code",
        "colab": {
          "base_uri": "https://localhost:8080/",
          "height": 51
        },
        "outputId": "b744d650-f6eb-4b27-dc11-abc65256d1c5"
      },
      "source": [
        "data * 10"
      ],
      "execution_count": 25,
      "outputs": [
        {
          "output_type": "execute_result",
          "data": {
            "text/plain": [
              "array([[  5.31388603, -12.00985459,   5.53156882],\n",
              "       [  1.53043921,  -6.34130978,  12.7059148 ]])"
            ]
          },
          "metadata": {
            "tags": []
          },
          "execution_count": 25
        }
      ]
    },
    {
      "cell_type": "code",
      "metadata": {
        "id": "hKgOdJU-aBPP",
        "colab_type": "code",
        "colab": {
          "base_uri": "https://localhost:8080/",
          "height": 51
        },
        "outputId": "d2a59a0e-fd45-4eed-9248-96d0d4bc856a"
      },
      "source": [
        "data + data"
      ],
      "execution_count": 27,
      "outputs": [
        {
          "output_type": "execute_result",
          "data": {
            "text/plain": [
              "array([[ 1.06277721, -2.40197092,  1.10631376],\n",
              "       [ 0.30608784, -1.26826196,  2.54118296]])"
            ]
          },
          "metadata": {
            "tags": []
          },
          "execution_count": 27
        }
      ]
    },
    {
      "cell_type": "code",
      "metadata": {
        "id": "eKq3zYeLZYgk",
        "colab_type": "code",
        "colab": {
          "base_uri": "https://localhost:8080/",
          "height": 34
        },
        "outputId": "515ccce4-1f2b-4d00-824b-1c888e7cde23"
      },
      "source": [
        "data.shape"
      ],
      "execution_count": 7,
      "outputs": [
        {
          "output_type": "execute_result",
          "data": {
            "text/plain": [
              "(2, 3)"
            ]
          },
          "metadata": {
            "tags": []
          },
          "execution_count": 7
        }
      ]
    },
    {
      "cell_type": "code",
      "metadata": {
        "id": "i_tQHeYBZugL",
        "colab_type": "code",
        "colab": {
          "base_uri": "https://localhost:8080/",
          "height": 34
        },
        "outputId": "cbc596a7-0c4f-40b1-a289-1072bd34d66b"
      },
      "source": [
        "data.dtype"
      ],
      "execution_count": 28,
      "outputs": [
        {
          "output_type": "execute_result",
          "data": {
            "text/plain": [
              "dtype('float64')"
            ]
          },
          "metadata": {
            "tags": []
          },
          "execution_count": 28
        }
      ]
    },
    {
      "cell_type": "markdown",
      "metadata": {
        "id": "9PWddxWrce5U",
        "colab_type": "text"
      },
      "source": [
        "## Creando Arrays\n",
        "\n",
        "La forma más simplre de crear arrays es utilizando la función array. Dicha función acepta secuencia de objetos, incluidos otros arrays, y produce un nuevo array NumPy que contiene la data que se ha pasado. Por ejemplo una lista de candidatos para conversión:\n"
      ]
    },
    {
      "cell_type": "code",
      "metadata": {
        "id": "9hB38rp4cf8l",
        "colab_type": "code",
        "colab": {
          "base_uri": "https://localhost:8080/",
          "height": 34
        },
        "outputId": "3901ab12-2234-49ac-8532-293429bb146b"
      },
      "source": [
        "data1 = [6, 7.5, 8, 0, 1]\n",
        "arr1 = np.array(data1)\n",
        "arr1"
      ],
      "execution_count": 29,
      "outputs": [
        {
          "output_type": "execute_result",
          "data": {
            "text/plain": [
              "array([6. , 7.5, 8. , 0. , 1. ])"
            ]
          },
          "metadata": {
            "tags": []
          },
          "execution_count": 29
        }
      ]
    },
    {
      "cell_type": "markdown",
      "metadata": {
        "id": "remDj1B-dl9d",
        "colab_type": "text"
      },
      "source": [
        "Secuencias anidades, son convertidas a arrays multidimensionales.\n"
      ]
    },
    {
      "cell_type": "code",
      "metadata": {
        "id": "yYjbd1A7cfj_",
        "colab_type": "code",
        "colab": {}
      },
      "source": [
        "data2 = [[1, 2, 3, 4], [5, 6, 7, 8]]\n",
        "arr2 = np.array(data2)\n",
        "arr2"
      ],
      "execution_count": 0,
      "outputs": []
    },
    {
      "cell_type": "code",
      "metadata": {
        "id": "Zp2IMdMIcehN",
        "colab_type": "code",
        "colab": {
          "base_uri": "https://localhost:8080/",
          "height": 34
        },
        "outputId": "32dd0f0d-ce33-4e46-d9cd-ad99cffa02a6"
      },
      "source": [
        "arr2.ndim"
      ],
      "execution_count": 32,
      "outputs": [
        {
          "output_type": "execute_result",
          "data": {
            "text/plain": [
              "2"
            ]
          },
          "metadata": {
            "tags": []
          },
          "execution_count": 32
        }
      ]
    },
    {
      "cell_type": "code",
      "metadata": {
        "id": "Te6ZYfabc4IM",
        "colab_type": "code",
        "colab": {
          "base_uri": "https://localhost:8080/",
          "height": 34
        },
        "outputId": "884c62a5-95b9-45de-8c31-941b6e471647"
      },
      "source": [
        "arr2.shape"
      ],
      "execution_count": 33,
      "outputs": [
        {
          "output_type": "execute_result",
          "data": {
            "text/plain": [
              "(2, 4)"
            ]
          },
          "metadata": {
            "tags": []
          },
          "execution_count": 33
        }
      ]
    },
    {
      "cell_type": "markdown",
      "metadata": {
        "id": "iLdTYwT2d28c",
        "colab_type": "text"
      },
      "source": [
        "Al menos que se especifique, **np.array** intenta inferir el mejor tipo de dato para el array creado. El tipo de dato es almacenado en un tipo especial de metadato. Por ejemplo:"
      ]
    },
    {
      "cell_type": "code",
      "metadata": {
        "id": "Vk_bDoGAceS_",
        "colab_type": "code",
        "colab": {}
      },
      "source": [
        "arr1.dtype # Tipo de dato array1"
      ],
      "execution_count": 0,
      "outputs": []
    },
    {
      "cell_type": "code",
      "metadata": {
        "id": "hmAiRMgLc8uu",
        "colab_type": "code",
        "colab": {}
      },
      "source": [
        "arr2.dtype # Tipo de dato array2"
      ],
      "execution_count": 0,
      "outputs": []
    },
    {
      "cell_type": "markdown",
      "metadata": {
        "id": "OlzcMwHSePKv",
        "colab_type": "text"
      },
      "source": [
        "Adicionalmente, **np.array** posee un número de funciones para crear nuevos arrays. Por ejemplo, crear arrays solo con ceros y unos respectivamente, con una dada longitud y forma.\n"
      ]
    },
    {
      "cell_type": "code",
      "metadata": {
        "id": "cfPJxRgAcqJ7",
        "colab_type": "code",
        "colab": {
          "base_uri": "https://localhost:8080/",
          "height": 34
        },
        "outputId": "bda96a1d-e34f-4f52-bc67-00aa5c23ac50"
      },
      "source": [
        "np.zeros(10)"
      ],
      "execution_count": 38,
      "outputs": [
        {
          "output_type": "execute_result",
          "data": {
            "text/plain": [
              "array([0., 0., 0., 0., 0., 0., 0., 0., 0., 0.])"
            ]
          },
          "metadata": {
            "tags": []
          },
          "execution_count": 38
        }
      ]
    },
    {
      "cell_type": "code",
      "metadata": {
        "id": "XhMOOZDheo6A",
        "colab_type": "code",
        "colab": {
          "base_uri": "https://localhost:8080/",
          "height": 68
        },
        "outputId": "952cf1fa-c7c8-450d-f2c4-c5f1804ae2e4"
      },
      "source": [
        "np.zeros((3, 6)) #3 filas 6 columnas de ceros"
      ],
      "execution_count": 39,
      "outputs": [
        {
          "output_type": "execute_result",
          "data": {
            "text/plain": [
              "array([[0., 0., 0., 0., 0., 0.],\n",
              "       [0., 0., 0., 0., 0., 0.],\n",
              "       [0., 0., 0., 0., 0., 0.]])"
            ]
          },
          "metadata": {
            "tags": []
          },
          "execution_count": 39
        }
      ]
    },
    {
      "cell_type": "markdown",
      "metadata": {
        "id": "Mle0OOiTe77_",
        "colab_type": "text"
      },
      "source": [
        "Con una longitud particular, **np.empty** crea un array sin inicializar y sin valores particulares."
      ]
    },
    {
      "cell_type": "code",
      "metadata": {
        "id": "U91sWuI4eomP",
        "colab_type": "code",
        "colab": {
          "base_uri": "https://localhost:8080/",
          "height": 136
        },
        "outputId": "a7c5bf18-337b-41ce-d146-b12fb0d4bf7a"
      },
      "source": [
        "np.empty((2, 3, 2)) #Array de 2 objetos de 3 filas y 2 columnas cada uno"
      ],
      "execution_count": 42,
      "outputs": [
        {
          "output_type": "execute_result",
          "data": {
            "text/plain": [
              "array([[[2.72461315e-316, 1.06099790e-312],\n",
              "        [2.33419537e-312, 2.22809558e-312],\n",
              "        [2.12199580e-313, 2.41907520e-312]],\n",
              "\n",
              "       [[1.06099790e-312, 2.44029516e-312],\n",
              "        [2.05833592e-312, 2.14321575e-312],\n",
              "        [2.97079411e-313, 0.00000000e+000]]])"
            ]
          },
          "metadata": {
            "tags": []
          },
          "execution_count": 42
        }
      ]
    },
    {
      "cell_type": "code",
      "metadata": {
        "id": "i05aMkUycspA",
        "colab_type": "code",
        "colab": {
          "base_uri": "https://localhost:8080/",
          "height": 34
        },
        "outputId": "5fe37f91-b75f-4017-af26-61e6ee1d7610"
      },
      "source": [
        "np.arange(15)"
      ],
      "execution_count": 37,
      "outputs": [
        {
          "output_type": "execute_result",
          "data": {
            "text/plain": [
              "array([ 0,  1,  2,  3,  4,  5,  6,  7,  8,  9, 10, 11, 12, 13, 14])"
            ]
          },
          "metadata": {
            "tags": []
          },
          "execution_count": 37
        }
      ]
    },
    {
      "cell_type": "markdown",
      "metadata": {
        "id": "UVBAQBG0gOTV",
        "colab_type": "text"
      },
      "source": [
        "## Tipo de datos\n",
        "\n",
        "Puedes explicitamente convertir o castear un array de un tipo de dato a otro usando el método **astype** \n"
      ]
    },
    {
      "cell_type": "code",
      "metadata": {
        "id": "RyyZspZ2gOB4",
        "colab_type": "code",
        "colab": {}
      },
      "source": [
        "arr = np.array([1, 2, 3, 4, 5])\n",
        "arr.dtype"
      ],
      "execution_count": 0,
      "outputs": []
    },
    {
      "cell_type": "code",
      "metadata": {
        "id": "UaJhu9GIg1Rl",
        "colab_type": "code",
        "colab": {}
      },
      "source": [
        "float_arr = arr.astype(np.float64) # Tomamos el array arr y lo casteamos a float\n",
        "float_arr.dtype"
      ],
      "execution_count": 0,
      "outputs": []
    },
    {
      "cell_type": "markdown",
      "metadata": {
        "id": "DQhuGqqahFe8",
        "colab_type": "text"
      },
      "source": [
        "## Aritmética con NumPy Array\n",
        "\n",
        "Arrays son importante porque permite expresar operaciones batch en datos sin tener que escribir loops. Cualquier operación aritmética entre arrays del mismo tamaño aplica la operación a través de los elementos.\n"
      ]
    },
    {
      "cell_type": "code",
      "metadata": {
        "id": "wT__zk1khf2F",
        "colab_type": "code",
        "colab": {}
      },
      "source": [
        "arr = np.array([[1., 2., 3.], [4., 5., 6.]])\n",
        "print (arr)\n",
        "print ('\\n')\n",
        "print (arr * arr)\n",
        "print ('\\n')\n",
        "print (arr - arr)\n",
        "print ('\\n')"
      ],
      "execution_count": 0,
      "outputs": []
    },
    {
      "cell_type": "code",
      "metadata": {
        "id": "3EsdOBMOiCtL",
        "colab_type": "code",
        "colab": {}
      },
      "source": [
        "1 / arr\n",
        "arr ** 0.5"
      ],
      "execution_count": 0,
      "outputs": []
    },
    {
      "cell_type": "code",
      "metadata": {
        "id": "6isJZhSyiGfw",
        "colab_type": "code",
        "colab": {}
      },
      "source": [
        "arr2 = np.array([[0., 4., 1.], [7., 2., 12.]])\n",
        "arr2"
      ],
      "execution_count": 0,
      "outputs": []
    },
    {
      "cell_type": "code",
      "metadata": {
        "id": "sKaMGP8WiJk7",
        "colab_type": "code",
        "colab": {}
      },
      "source": [
        "arr2 > arr #Devolverá un True o False"
      ],
      "execution_count": 0,
      "outputs": []
    },
    {
      "cell_type": "markdown",
      "metadata": {
        "id": "_tF-mjZ_idWJ",
        "colab_type": "text"
      },
      "source": [
        "## Slicing e Indexing básico\n",
        "\n",
        "Los índices en arrays NumPuy permiten seleccionar un subset individual de elementos. Los arrays simples son similares en comportamiento a las listas. Pero a medida que avanzamos, utilizar NumPy arrays es mucho mas útil"
      ]
    },
    {
      "cell_type": "code",
      "metadata": {
        "id": "bbDcV427i_Il",
        "colab_type": "code",
        "colab": {}
      },
      "source": [
        "arr = np.arange(10)\n",
        "arr"
      ],
      "execution_count": 0,
      "outputs": []
    },
    {
      "cell_type": "code",
      "metadata": {
        "id": "HhBy6uhmjDhf",
        "colab_type": "code",
        "colab": {}
      },
      "source": [
        "print (arr[5])\n",
        "print (arr[5:8])\n",
        "arr[5:8] = 12\n",
        "print (arr)"
      ],
      "execution_count": 0,
      "outputs": []
    },
    {
      "cell_type": "markdown",
      "metadata": {
        "id": "Bvy-8GSqjiZv",
        "colab_type": "text"
      },
      "source": [
        "El slice vacío asignará el mismo valor a todo el array\n"
      ]
    },
    {
      "cell_type": "code",
      "metadata": {
        "id": "j_pe8YHqjp3w",
        "colab_type": "code",
        "colab": {
          "base_uri": "https://localhost:8080/",
          "height": 34
        },
        "outputId": "27217d4a-b5b9-47c6-8b5f-f934794f6802"
      },
      "source": [
        "arr_slice = np.zeros(10)\n",
        "arr_slice[:] = 64\n",
        "arr_slice"
      ],
      "execution_count": 62,
      "outputs": [
        {
          "output_type": "execute_result",
          "data": {
            "text/plain": [
              "array([64., 64., 64., 64., 64., 64., 64., 64., 64., 64.])"
            ]
          },
          "metadata": {
            "tags": []
          },
          "execution_count": 62
        }
      ]
    },
    {
      "cell_type": "markdown",
      "metadata": {
        "id": "Jq3-CKKhkJ8p",
        "colab_type": "text"
      },
      "source": [
        "Con arrays de mayor dimensión, tienes muchas opciones. En un array de dos dimensiones, los elementos de cada índice no son más escalare, sino arrays de una dimensión.\n"
      ]
    },
    {
      "cell_type": "code",
      "metadata": {
        "id": "7uHsf8p0khHK",
        "colab_type": "code",
        "colab": {
          "base_uri": "https://localhost:8080/",
          "height": 34
        },
        "outputId": "a4b6d01f-402f-4e03-a0cb-dc4dabc75c19"
      },
      "source": [
        "arr2d = np.array([[1, 2, 3], [4, 5, 6], [7, 8, 9]])\n",
        "arr2d[2]"
      ],
      "execution_count": 63,
      "outputs": [
        {
          "output_type": "execute_result",
          "data": {
            "text/plain": [
              "array([7, 8, 9])"
            ]
          },
          "metadata": {
            "tags": []
          },
          "execution_count": 63
        }
      ]
    },
    {
      "cell_type": "markdown",
      "metadata": {
        "id": "1fnPvP0YlYm7",
        "colab_type": "text"
      },
      "source": [
        "Una forma fácil de ver los arrays multidimensionales es por ejemplo de la siguiente forma.\n",
        "Tomamos el Eje 0 (axis 0) como las filas, y el Eje 1 (axis 1) como las columnas\n",
        "\n",
        "<img src=\"https://github.com/al34n1x/datascience/blob/master/img/array.png?raw=true\" width=\"400\" height=\"300\" />\n",
        "\n"
      ]
    },
    {
      "cell_type": "markdown",
      "metadata": {
        "id": "e-kxecujmPuP",
        "colab_type": "text"
      },
      "source": [
        "En un array multidimensional, si omitimos un índice, el objeto que se retorna, sera un array de una dimensión inferior, consistiendo en toda los datos cruzados en las dimensiones superiores, por ejemplo en un array de 2 x 2 x 3: \n"
      ]
    },
    {
      "cell_type": "markdown",
      "metadata": {
        "id": "2pYCvStZoeUk",
        "colab_type": "text"
      },
      "source": [
        "## Indexing con Slicing\n",
        "\n",
        "Indices y Slices funcionan de la misma manera en arrays que en listas.\n",
        "Así mismo podemos combinar el uso de índices con slices para extraer subitems de posiciones específicas del array."
      ]
    },
    {
      "cell_type": "code",
      "metadata": {
        "id": "HmHSPWrYoeBw",
        "colab_type": "code",
        "colab": {}
      },
      "source": [
        "print (arr2d)\n",
        "print ('\\n')\n",
        "arr2d[:2, 1:] # Del primer item extraemos los nùmeros desde la posición 0 a 2, y del segundo ítem del array extraemos desde la posición 1 en adelante"
      ],
      "execution_count": 0,
      "outputs": []
    },
    {
      "cell_type": "markdown",
      "metadata": {
        "id": "0rNcdGXDqAA6",
        "colab_type": "text"
      },
      "source": [
        "Cuando rebanamos de esta forma, obtenemos vista de arrays dentro del mismo numero de dimensiones. Mezclando índices enteros y slides, podes obtener  rebanadas de una dimensión inferior.\n",
        "\n",
        "Por ejemplo, puedo seleccionar la segunda fila pero solo las primeras dos columnas de la misma mediante la siguiente sentencia.\n"
      ]
    },
    {
      "cell_type": "code",
      "metadata": {
        "id": "7hhvkJUzpvdy",
        "colab_type": "code",
        "colab": {}
      },
      "source": [
        "arr2d[1, :2]"
      ],
      "execution_count": 0,
      "outputs": []
    },
    {
      "cell_type": "markdown",
      "metadata": {
        "id": "vbDP5MBbqlCH",
        "colab_type": "text"
      },
      "source": [
        "Similarmente, puedes seleccionar la tercera columna pero solo la primera fila con la siguiente sentencia.\n",
        "\n"
      ]
    },
    {
      "cell_type": "code",
      "metadata": {
        "id": "APlzNugyqxH9",
        "colab_type": "code",
        "colab": {}
      },
      "source": [
        "print (arr2d)\n",
        "print ('\\n')\n",
        "arr2d[:2, 2]"
      ],
      "execution_count": 0,
      "outputs": []
    },
    {
      "cell_type": "code",
      "metadata": {
        "id": "M7V5YCF_rYin",
        "colab_type": "code",
        "colab": {}
      },
      "source": [
        "print (arr2d)\n",
        "print ('\\n')\n",
        "arr2d[:, :1] #Que me mostrará?"
      ],
      "execution_count": 0,
      "outputs": []
    },
    {
      "cell_type": "markdown",
      "metadata": {
        "id": "EtaiNVier6XI",
        "colab_type": "text"
      },
      "source": [
        "## Slicing en array de dos dimensiones\n",
        "\n",
        "Este gráfico puede ayudarte durante tu trabajo desarrollando código con NumPy.\n",
        "\n",
        "\n",
        "<img src=\"https://github.com/al34n1x/datascience/blob/master/img/array_shapes.png?raw=true\" width=\"380\" height=\"400\" />\n"
      ]
    },
    {
      "cell_type": "code",
      "metadata": {
        "id": "MWdgCsa4sR6y",
        "colab_type": "code",
        "colab": {
          "base_uri": "https://localhost:8080/",
          "height": 68
        },
        "outputId": "a4b3451c-2bfe-4438-9045-3aa263d7b768"
      },
      "source": [
        "arr2d[:2, 1:] = 0\n",
        "arr2d"
      ],
      "execution_count": 82,
      "outputs": [
        {
          "output_type": "execute_result",
          "data": {
            "text/plain": [
              "array([[1, 0, 0],\n",
              "       [4, 0, 0],\n",
              "       [7, 8, 9]])"
            ]
          },
          "metadata": {
            "tags": []
          },
          "execution_count": 82
        }
      ]
    },
    
  ]
}
